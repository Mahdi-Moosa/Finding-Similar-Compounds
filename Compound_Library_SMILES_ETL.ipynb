{
 "cells": [
  {
   "cell_type": "markdown",
   "id": "57503d34",
   "metadata": {},
   "source": [
    "# Load Data"
   ]
  },
  {
   "cell_type": "code",
   "execution_count": 1,
   "id": "a3edae29",
   "metadata": {},
   "outputs": [],
   "source": [
    "import pandas as pd\n",
    "APEXBio_Library_Details = pd.read_excel('L1021-DiscoveryProbe-FDA-approved-Drug-Library(1).xlsx', \n",
    "                                        sheet_name='Chemical Data',\n",
    "                                       nrows=2322) # There is a comment after row 2322. Skipping the comment after our desired data.\n",
    "APEXBio_Library_Details = APEXBio_Library_Details.dropna(how='all').copy(deep=True) # Dropping any empty rows"
   ]
  },
  {
   "cell_type": "markdown",
   "id": "022a1d4c",
   "metadata": {},
   "source": [
    "# Checking the validity of provided SMILES notation"
   ]
  },
  {
   "cell_type": "code",
   "execution_count": 2,
   "id": "fe785731",
   "metadata": {},
   "outputs": [],
   "source": [
    "# We will use rdkit to check validity of provided SMILES notation for all compounds\n",
    "\n",
    "from rdkit import Chem\n",
    "from rdkit.Chem import AllChem\n",
    "from rdkit import DataStructs\n",
    "\n",
    "def smiles_check(SMILES_code):\n",
    "    x = 1\n",
    "    if Chem.MolFromSmiles(SMILES_code) is None:\n",
    "        x =0\n",
    "    return x\n",
    "APEXBio_Library_Details['SMILES_check'] = APEXBio_Library_Details['SMILES'].apply(smiles_check)"
   ]
  },
  {
   "cell_type": "markdown",
   "id": "1a506017",
   "metadata": {},
   "source": [
    "# Get entries with defective SMILES \n",
    "## smiles_to_parse dictionary pairs compound name to respective APEXbio URL"
   ]
  },
  {
   "cell_type": "code",
   "execution_count": 3,
   "id": "4c8e88e2",
   "metadata": {},
   "outputs": [],
   "source": [
    "Entries_with_defective_SMILES = APEXBio_Library_Details[APEXBio_Library_Details.SMILES_check == 0].copy(deep=True)\n",
    "smiles_to_parse_dict = dict(zip(Entries_with_defective_SMILES['Item Name'], Entries_with_defective_SMILES['URL']))\n",
    "# len(smiles_to_parse_dict) = 290, there are 290 compounds with defective SMILES"
   ]
  },
  {
   "cell_type": "markdown",
   "id": "be77032b",
   "metadata": {},
   "source": [
    "# Get SMILES notation from PubChem"
   ]
  },
  {
   "cell_type": "code",
   "execution_count": 4,
   "id": "b30de577",
   "metadata": {},
   "outputs": [],
   "source": [
    "import pubchempy as pcp\n",
    "name_to_SMILES_pcp = {i:pcp.get_compounds(i, 'name') for i in smiles_to_parse_dict}\n",
    "# This step should take a while since this is communication with PubChem server and \n",
    "# fetching server response."
   ]
  },
  {
   "cell_type": "markdown",
   "id": "d5f14c66",
   "metadata": {},
   "source": [
    "# Get PubChem results with multiple hits"
   ]
  },
  {
   "cell_type": "code",
   "execution_count": 5,
   "id": "4d4d31b5",
   "metadata": {},
   "outputs": [
    {
     "data": {
      "text/plain": [
       "97"
      ]
     },
     "execution_count": 5,
     "metadata": {},
     "output_type": "execute_result"
    }
   ],
   "source": [
    "name_to_SMILES_pcp_entries_with_multiple_hits = dict()\n",
    "for i in name_to_SMILES_pcp:\n",
    "    if len(name_to_SMILES_pcp[i]) > 1:\n",
    "        name_to_SMILES_pcp_entries_with_multiple_hits[i] = name_to_SMILES_pcp[i]\n",
    "len(name_to_SMILES_pcp_entries_with_multiple_hits)"
   ]
  },
  {
   "cell_type": "markdown",
   "id": "ff6c0bb3",
   "metadata": {},
   "source": [
    "# Get PubChem results with single or zero hits"
   ]
  },
  {
   "cell_type": "code",
   "execution_count": 43,
   "id": "0498f26b",
   "metadata": {},
   "outputs": [],
   "source": [
    "name_to_SMILES_pcp_single_or_zero_hit = dict()\n",
    "for i in (set(name_to_SMILES_pcp.keys()) - set(name_to_SMILES_pcp_entries_with_multiple_hits.keys())):\n",
    "    name_to_SMILES_pcp_single_or_zero_hit[i] = name_to_SMILES_pcp[i]\n",
    "#name_to_SMILES_pcp_single_or_zero_hit"
   ]
  },
  {
   "cell_type": "markdown",
   "id": "2e4ca116",
   "metadata": {},
   "source": [
    " # Get PubChem results with zero hits"
   ]
  },
  {
   "cell_type": "code",
   "execution_count": 7,
   "id": "cce1a6f5",
   "metadata": {},
   "outputs": [],
   "source": [
    "name_to_SMILES_pcp_zero_hit = [i for i in name_to_SMILES_pcp_single_or_zero_hit if len(name_to_SMILES_pcp_single_or_zero_hit[i]) == 0]"
   ]
  },
  {
   "cell_type": "markdown",
   "id": "0e0383d0",
   "metadata": {},
   "source": [
    "# Get PubChem resuts with single hits"
   ]
  },
  {
   "cell_type": "code",
   "execution_count": 44,
   "id": "522fb5b6",
   "metadata": {},
   "outputs": [],
   "source": [
    "name_to_SMILES_pcp_single_hit = set(name_to_SMILES_pcp_single_or_zero_hit) - set(name_to_SMILES_pcp_zero_hit)\n",
    "#name_to_SMILES_pcp_single_hit\n",
    "compound_to_SMILES_pcp_single_hit = {i:name_to_SMILES_pcp_single_or_zero_hit[i][0].canonical_smiles for i in name_to_SMILES_pcp_single_hit}\n",
    "#compound_to_SMILES_pcp_single_hit"
   ]
  },
  {
   "cell_type": "markdown",
   "id": "9bf02730",
   "metadata": {},
   "source": [
    "# For PubChem results with multiple hits, get molecular weight for all hits"
   ]
  },
  {
   "cell_type": "code",
   "execution_count": 45,
   "id": "76a838d9",
   "metadata": {},
   "outputs": [],
   "source": [
    "name_to_SMILES_pcp_entries_with_multiple_hits_molWt = list()\n",
    "for i in name_to_SMILES_pcp_entries_with_multiple_hits:\n",
    "    temp_list = name_to_SMILES_pcp[i]\n",
    "    for j in temp_list:\n",
    "        name_weight_pair = {i:j.molecular_weight}\n",
    "        name_to_SMILES_pcp_entries_with_multiple_hits_molWt.append(name_weight_pair)\n",
    "        #print(name_weight_pair)\n"
   ]
  },
  {
   "cell_type": "markdown",
   "id": "b58edbb9",
   "metadata": {},
   "source": [
    "# For PubChem results with multiple hits - If molecular weight for all hits are same, then keep only the first hit, discard the rest"
   ]
  },
  {
   "cell_type": "code",
   "execution_count": 10,
   "id": "6b4f70c4",
   "metadata": {},
   "outputs": [
    {
     "name": "stdout",
     "output_type": "stream",
     "text": [
      "Molecular weight did not match with the mean for Galanthamine HBr\n",
      "Molecular weight did not match with the mean for Leucovorin Calcium\n",
      "Molecular weight did not match with the mean for Alarelin Acetate\n",
      "Molecular weight did not match with the mean for Bivalirudin Trifluoroacetate\n",
      "Molecular weight did not match with the mean for MK-5172\n",
      "Molecular weight did not match with the mean for Doxycycline hyclate\n",
      "Molecular weight did not match with the mean for Varenicline Tartrate\n",
      "Molecular weight did not match with the mean for Staurosporine\n",
      "Molecular weight did not match with the mean for Tivantinib (ARQ 197)\n",
      "Molecular weight did not match with the mean for Bleomycin Sulfate\n",
      "Molecular weight did not match with the mean for Ridaforolimus (Deforolimus, MK-8669)\n",
      "Molecular weight did not match with the mean for Ceftriaxone Sodium Trihydrate\n",
      "Molecular weight did not match with the mean for Azlocillin sodium salt\n",
      "Molecular weight did not match with the mean for AHU-377 hemicalcium salt\n",
      "Molecular weight did not match with the mean for Spectinomycin dihydrochloride\n",
      "Molecular weight did not match with the mean for Amoxicillin trihydrate\n",
      "Molecular weight did not match with the mean for Ouabain Octahydrate\n",
      "Molecular weight did not match with the mean for Ademetionine\n",
      "Molecular weight did not match with the mean for Cefepime Dihydrochloride Monohydrate\n",
      "Molecular weight did not match with the mean for Rotundine\n",
      "Molecular weight did not match with the mean for Cefprozil\n",
      "Molecular weight did not match with the mean for Octreotide acetate\n",
      "Molecular weight did not match with the mean for MK3102\n",
      "Molecular weight did not match with the mean for Cyclo(RGDyK)\n",
      "Molecular weight did not match with the mean for (-)-Lobeline hydrochloride\n",
      "Molecular weight did not match with the mean for Quinidine\n",
      "Molecular weight did not match with the mean for Dolasetron\n",
      "Molecular weight did not match with the mean for Cefixime\n",
      "Molecular weight did not match with the mean for Kasugamycin (hydrochloride)\n",
      "Molecular weight did not match with the mean for UTP, Trisodium Salt\n",
      "Molecular weight did not match with the mean for Sultamicillin Tosylate\n",
      "Molecular weight did not match with the mean for Nafarelin Acetate\n",
      "Molecular weight did not match with the mean for Naringin Dihydrochalcone\n",
      "Molecular weight did not match with the mean for Levothyroxine sodium\n",
      "Molecular weight did not match with the mean for Parthenolide\n",
      "Molecular weight did not match with the mean for Ginkgolide A\n",
      "Molecular weight did not match with the mean for Berbamine hydrochloride\n",
      "Molecular weight did not match with the mean for 10-Hydroxycamptothecin\n"
     ]
    }
   ],
   "source": [
    "mean_molWt_multipleHits = pd.DataFrame(name_to_SMILES_pcp_entries_with_multiple_hits_molWt).astype(float).mean()\n",
    "\n",
    "name_to_SMILES_pcp_entries_with_multiple_hits_first_enrty_subset = dict()\n",
    "for i in name_to_SMILES_pcp_entries_with_multiple_hits:\n",
    "    if float(name_to_SMILES_pcp_entries_with_multiple_hits[i][0].molecular_weight) == mean_molWt_multipleHits.loc[i]:\n",
    "        name_to_SMILES_pcp_entries_with_multiple_hits_first_enrty_subset[i] = name_to_SMILES_pcp_entries_with_multiple_hits[i][0]\n",
    "    else:\n",
    "        print(f'Molecular weight did not match with the mean for {i}')\n",
    "        "
   ]
  },
  {
   "cell_type": "code",
   "execution_count": 11,
   "id": "7d80a179",
   "metadata": {},
   "outputs": [],
   "source": [
    "compound_to_SMILES_pcp_multiple_hit_first_entry = {x:name_to_SMILES_pcp_entries_with_multiple_hits_first_enrty_subset[x].canonical_smiles \n",
    "                          for x in name_to_SMILES_pcp_entries_with_multiple_hits_first_enrty_subset}\n",
    "# 59 such compunds"
   ]
  },
  {
   "cell_type": "code",
   "execution_count": null,
   "id": "c30aa171",
   "metadata": {},
   "outputs": [],
   "source": []
  },
  {
   "cell_type": "markdown",
   "id": "a49c7c2f",
   "metadata": {},
   "source": [
    "# For PubChem results with multiple hits - remaining compounds with unresolved compund-to-SMILE map"
   ]
  },
  {
   "cell_type": "code",
   "execution_count": 12,
   "id": "3f475ed5",
   "metadata": {},
   "outputs": [],
   "source": [
    "remaining_ambigous_compound_set = set(name_to_SMILES_pcp_entries_with_multiple_hits.keys()) - set(name_to_SMILES_pcp_entries_with_multiple_hits_first_enrty_subset.keys())\n",
    "# 38 such compounds"
   ]
  },
  {
   "cell_type": "markdown",
   "id": "08ed6a9e",
   "metadata": {},
   "source": [
    "# Combine compounds with missing SMILES - \n",
    "# (compounds with no hits) + (compound with multiple hits that can not be unambigously assigned)"
   ]
  },
  {
   "cell_type": "code",
   "execution_count": 19,
   "id": "e2a4a61c",
   "metadata": {},
   "outputs": [],
   "source": [
    "combined_unmapped_set = set(name_to_SMILES_pcp_zero_hit) | set(remaining_ambigous_compound_set)"
   ]
  },
  {
   "cell_type": "markdown",
   "id": "768a8672",
   "metadata": {},
   "source": [
    "# Fetch SMILES from APExBio website \n",
    "# (using URLs provided in the loaded xlsx file)"
   ]
  },
  {
   "cell_type": "code",
   "execution_count": 22,
   "id": "3bf7928f",
   "metadata": {},
   "outputs": [],
   "source": [
    "# 'Compound name':'APExBio URL' pair was already retrieved before and saved as smiles_to_parse_dict\n",
    "# we are going to use this smiles_to_parse_dict to get URL addresses and use selenium to grab respective APexBio webpages.\n",
    "# APExBio webpage for these compounds have a table that lists many compound properties including compound SMILES code.\n",
    "# I have manually checked couple of compounds that are in our combined_unmapped_set. The smile condes for these compounds\n",
    "# came out as valid. So, for now, I'm assuming that SMILE codes listed in individual compound webpage is valid.\n"
   ]
  },
  {
   "cell_type": "markdown",
   "id": "f4964c14",
   "metadata": {},
   "source": [
    "### Codeblock to dynamically parse APEXbio website"
   ]
  },
  {
   "cell_type": "code",
   "execution_count": 35,
   "id": "8f0feece",
   "metadata": {},
   "outputs": [],
   "source": [
    "# This codeblock defines functions to grab small-molecule compound properties table from \n",
    "# respective compound web-page. Briefly, the URL is loaded, parsed using pandas and finally\n",
    "# SMILES codes are extracted.\n",
    "\n",
    "import time\n",
    "import random\n",
    "import requests\n",
    "from selenium import webdriver\n",
    "from selenium.webdriver.common.keys import Keys\n",
    "from selenium.webdriver.chrome.service import Service\n",
    "import pandas as pd\n",
    "#url = 'https://www.apexbt.com/search.php?catalog=A1402'\n",
    "\n",
    "s = Service(r'C:\\Users\\Akash\\Downloads\\chromedriver_win32(1)\\chromedriver')\n",
    "\n",
    "def fetch_selenium(URL):\n",
    "    #URL = 'https://bepl.ent.sirsi.net/client/en_US/default/search/results?dt=list'\n",
    "    # initiating the webdriver. Parameter includes the path of the webdriver.\n",
    "    driver = webdriver.Chrome(service=s) \n",
    "    driver.get(URL) \n",
    "    # this is just to ensure that the page is loaded\n",
    "    time.sleep(random.uniform(5,10)) # Wait for a duration of a time choosen randomly between 5 s and 10 s.\n",
    "    html = driver.page_source\n",
    "    # this renders the JS code and stores all\n",
    "    # of the information in static HTML code.\n",
    "    #Close the window.\n",
    "    driver.close()\n",
    "    return html\n",
    "\n",
    "def get_SMILES_from_URL(url):\n",
    "    try:\n",
    "        soup_selenium = fetch_selenium(url)\n",
    "        apexbio_info_df = pd.read_html(str(soup_selenium))[1]\n",
    "        smiles_code = apexbio_info_df.set_index(0).loc['Canonical SMILES'].iloc[0]\n",
    "        #smiles_code = rows[10].find_all('td')[1].text\n",
    "        #print(f'{url} fetch successful')\n",
    "    except:\n",
    "        smiles_code = 'FAILED'\n",
    "        print(f'{url} fetch FAILED')\n",
    "    return smiles_code\n",
    "\n",
    "#get_SMILES_from_URL('https://www.apexbt.com/search.php?catalog=C6447')"
   ]
  },
  {
   "cell_type": "markdown",
   "id": "f147c340",
   "metadata": {},
   "source": [
    "### Grab unmapped compunds from APExBio website"
   ]
  },
  {
   "cell_type": "code",
   "execution_count": 36,
   "id": "c440b568",
   "metadata": {},
   "outputs": [
    {
     "name": "stdout",
     "output_type": "stream",
     "text": [
      "https://www.apexbt.com/search.php?catalog=B1639 fetch successful\n",
      "https://www.apexbt.com/search.php?catalog=C6447 fetch successful\n",
      "https://www.apexbt.com/search.php?catalog=C5503 fetch successful\n",
      "https://www.apexbt.com/search.php?catalog=N1315 fetch successful\n",
      "https://www.apexbt.com/search.php?catalog=B1689 fetch successful\n",
      "https://www.apexbt.com/search.php?catalog=B8718 fetch successful\n",
      "https://www.apexbt.com/search.php?catalog=B3342 fetch successful\n",
      "https://www.apexbt.com/search.php?catalog=B6586 fetch successful\n",
      "https://www.apexbt.com/search.php?catalog=C5378 fetch successful\n",
      "https://www.apexbt.com/search.php?catalog=C5593 fetch successful\n",
      "https://www.apexbt.com/search.php?catalog=A5391 fetch successful\n",
      "https://www.apexbt.com/search.php?catalog=N1900 fetch successful\n",
      "https://www.apexbt.com/search.php?catalog=B7201 fetch successful\n",
      "https://www.apexbt.com/search.php?catalog=C6434 fetch successful\n",
      "https://www.apexbt.com/search.php?catalog=A8331 fetch successful\n",
      "https://www.apexbt.com/search.php?catalog=A2489 fetch successful\n",
      "https://www.apexbt.com/search.php?catalog=B7876 fetch successful\n",
      "https://www.apexbt.com/search.php?catalog=C6460 fetch successful\n",
      "https://www.apexbt.com/search.php?catalog=N2591 fetch successful\n",
      "https://www.apexbt.com/search.php?catalog=B3676 fetch successful\n",
      "https://www.apexbt.com/search.php?catalog=B4979 fetch successful\n",
      "https://www.apexbt.com/search.php?catalog=B7617 fetch successful\n",
      "https://www.apexbt.com/search.php?catalog=C3812 fetch successful\n",
      "https://www.apexbt.com/search.php?catalog=B3519 fetch successful\n",
      "https://www.apexbt.com/search.php?catalog=C6444 fetch successful\n",
      "https://www.apexbt.com/search.php?catalog=A2514 fetch successful\n",
      "https://www.apexbt.com/search.php?catalog=A4052 fetch successful\n",
      "https://www.apexbt.com/search.php?catalog=B1893 fetch successful\n",
      "https://www.apexbt.com/search.php?catalog=B6049 fetch successful\n",
      "https://www.apexbt.com/search.php?catalog=A8325 fetch successful\n",
      "https://www.apexbt.com/search.php?catalog=C3055 fetch successful\n",
      "https://www.apexbt.com/search.php?catalog=C6498 fetch successful\n",
      "https://www.apexbt.com/search.php?catalog=C6383 fetch successful\n",
      "https://www.apexbt.com/search.php?catalog=B1691 fetch successful\n",
      "https://www.apexbt.com/search.php?catalog=C4183 fetch successful\n",
      "https://www.apexbt.com/search.php?catalog=C6439 fetch successful\n",
      "https://www.apexbt.com/search.php?catalog=C6381 fetch successful\n",
      "https://www.apexbt.com/search.php?catalog=N2471 fetch successful\n",
      "https://www.apexbt.com/search.php?catalog=B8214 fetch successful\n",
      "https://www.apexbt.com/search.php?catalog=B5868 fetch successful\n",
      "https://www.apexbt.com/search.php?catalog=B1027 fetch successful\n",
      "https://www.apexbt.com/search.php?catalog=B3513 fetch successful\n",
      "https://www.apexbt.com/search.php?catalog=A8192 fetch successful\n",
      "https://www.apexbt.com/search.php?catalog=B6015 fetch successful\n",
      "https://www.apexbt.com/search.php?catalog=N2734 fetch successful\n",
      "https://www.apexbt.com/search.php?catalog=B4974 fetch successful\n",
      "https://www.apexbt.com/search.php?catalog=A3244 fetch successful\n",
      "https://www.apexbt.com/search.php?catalog=B7590 fetch successful\n",
      "https://www.apexbt.com/search.php?catalog=B6492 fetch successful\n",
      "https://www.apexbt.com/search.php?catalog=A1745 fetch successful\n",
      "https://www.apexbt.com/search.php?catalog=A3618 fetch successful\n",
      "https://www.apexbt.com/search.php?catalog=B1716 fetch FAILED\n",
      "https://www.apexbt.com/search.php?catalog=A3151 fetch successful\n",
      "https://www.apexbt.com/search.php?catalog=B3361 fetch successful\n",
      "https://www.apexbt.com/search.php?catalog=B3267 fetch successful\n",
      "https://www.apexbt.com/search.php?catalog=B4815 fetch successful\n",
      "https://www.apexbt.com/search.php?catalog=B3436 fetch successful\n"
     ]
    }
   ],
   "source": [
    "compound_to_SMILES_APExBio = {i:get_SMILES_from_URL(smiles_to_parse_dict[i]) for i in combined_unmapped_set}"
   ]
  },
  {
   "cell_type": "markdown",
   "id": "3b8fadaf",
   "metadata": {},
   "source": [
    "# Combining all fetched smiles"
   ]
  },
  {
   "cell_type": "code",
   "execution_count": 84,
   "id": "395d0888",
   "metadata": {},
   "outputs": [
    {
     "data": {
      "text/plain": [
       "0"
      ]
     },
     "execution_count": 84,
     "metadata": {},
     "output_type": "execute_result"
    }
   ],
   "source": [
    "fetched_molecule_to_smile_map_compiled = dict()\n",
    "fetched_molecule_to_smile_map_compiled.update(compound_to_SMILES_pcp_single_hit)\n",
    "fetched_molecule_to_smile_map_compiled.update(compound_to_SMILES_pcp_multiple_hit_first_entry)\n",
    "fetched_molecule_to_smile_map_compiled.update(compound_to_SMILES_APExBio)\n",
    "len(fetched_molecule_to_smile_map_compiled) - len(Entries_with_defective_SMILES) # This should be zero."
   ]
  },
  {
   "cell_type": "markdown",
   "id": "9cf25227",
   "metadata": {},
   "source": [
    "# Check final dictionary for failed SMILES"
   ]
  },
  {
   "cell_type": "code",
   "execution_count": 85,
   "id": "a4c1b584",
   "metadata": {},
   "outputs": [
    {
     "name": "stdout",
     "output_type": "stream",
     "text": [
      "SMILE map failed for Bleomycin Sulfate\n",
      "SMILE map failed for Gentamycin Sulfate\n",
      "Gentamycin Sulfate has been removed from the compilation\n",
      "SMILE map failed for Doxycycline hyclate\n",
      "SMILE map failed for Calcitonin (salmon)\n",
      "Calcitonin (salmon) has been removed from the compilation\n",
      "SMILE map failed for Bivalirudin Trifluoroacetate\n",
      "SMILE map failed for Colistin Sulfate\n",
      "Colistin Sulfate has been removed from the compilation\n",
      "SMILE map failed for Alarelin Acetate\n",
      "SMILE map failed for AHU-377 hemicalcium salt\n",
      "SMILE map failed for LCZ696\n",
      "LCZ696 has been removed from the compilation\n",
      "9\n"
     ]
    }
   ],
   "source": [
    "failed_count = 0\n",
    "removed_compound_list = list()\n",
    "for i in list(fetched_molecule_to_smile_map_compiled):\n",
    "    if smiles_check(fetched_molecule_to_smile_map_compiled[i]) ==0:\n",
    "        print(f'SMILE map failed for {i}')\n",
    "        try:\n",
    "            fetched_molecule_to_smile_map_compiled[i] = name_to_SMILES_pcp[i][0].canonical_smiles\n",
    "            # For entries with failed SMILES afther all these steps, we are going to assume that \n",
    "            # the first hit from PubChem is the best possible match. \n",
    "        except:\n",
    "            del fetched_molecule_to_smile_map_compiled[i]\n",
    "            print(f'{i} has been removed from the compilation')\n",
    "            removed_compound_list.append(i)\n",
    "        failed_count = failed_count +1\n",
    "print(failed_count)"
   ]
  },
  {
   "cell_type": "code",
   "execution_count": 91,
   "id": "daf063c3",
   "metadata": {},
   "outputs": [
    {
     "data": {
      "text/plain": [
       "['Gentamycin Sulfate', 'Calcitonin (salmon)', 'Colistin Sulfate', 'LCZ696']"
      ]
     },
     "execution_count": 91,
     "metadata": {},
     "output_type": "execute_result"
    }
   ],
   "source": [
    "removed_compound_list\n",
    "# It seems these these zero hits were retrived by PubChemPy for thsese four compounds.\n",
    "# I have checked them manually in PubChem and surprisingly I find that they do show hits,\n",
    "# esp. when searched via the graphical user interface. Perhaps the web-interface search is\n",
    "# broad in nature, kind of like Google search, looking for places where matches can be found.\n",
    "# I'm going to write a web parse code for PubChem."
   ]
  },
  {
   "cell_type": "markdown",
   "id": "97ca6836",
   "metadata": {},
   "source": [
    "# Using PubChem graphical search, seems eventhough there is no result when queried using PubChemPy, direct search gives some result. \n",
    "## Fetching first hits from PubChem web search (direct)"
   ]
  },
  {
   "cell_type": "code",
   "execution_count": 138,
   "id": "afbc2193",
   "metadata": {},
   "outputs": [
    {
     "name": "stdout",
     "output_type": "stream",
     "text": [
      "25134238 has been retrieved.\n",
      "16133812 has been retrieved.\n",
      "1117 has been retrieved.\n",
      "19427706 has been retrieved.\n"
     ]
    }
   ],
   "source": [
    "from bs4 import BeautifulSoup\n",
    "\n",
    "url = 'https://pubchem.ncbi.nlm.nih.gov/#query=LCZ696'\n",
    "\n",
    "def fetch_from_PubChem_query(compound_name):\n",
    "    base_PubChem_url = 'https://pubchem.ncbi.nlm.nih.gov/#query='\n",
    "    \n",
    "    PubChem_web_search = fetch_selenium(base_PubChem_url+compound_name)\n",
    "    soup_PubChem = BeautifulSoup(PubChem_web_search, 'html.parser')\n",
    "    cid_of_first_hit = soup_PubChem.find_all('a', class_='f-medium')[0].text\n",
    "    print(f'{cid_of_first_hit} has been retrieved.')\n",
    "    canonical_smiles_from_cid = pcp.Compound.from_cid(cid_of_first_hit).canonical_smiles\n",
    "    return canonical_smiles_from_cid\n",
    "\n",
    "PubChem_WebFetch_for_failed = dict()\n",
    "for i in removed_compound_list:\n",
    "    PubChem_WebFetch_for_failed[i] = fetch_from_PubChem_query(i)"
   ]
  },
  {
   "cell_type": "code",
   "execution_count": 141,
   "id": "10020150",
   "metadata": {},
   "outputs": [
    {
     "name": "stdout",
     "output_type": "stream",
     "text": [
      "1\n",
      "1\n",
      "1\n",
      "1\n"
     ]
    }
   ],
   "source": [
    "for i in PubChem_WebFetch_for_failed:\n",
    "    print(smiles_check(PubChem_WebFetch_for_failed[i]))\n",
    "# Seems like all smiles are valid now!"
   ]
  },
  {
   "cell_type": "code",
   "execution_count": 142,
   "id": "692e31f1",
   "metadata": {},
   "outputs": [
    {
     "name": "stdout",
     "output_type": "stream",
     "text": [
      "Initial dictionary length was 286\n",
      "Final dictionary length is 290\n"
     ]
    }
   ],
   "source": [
    "print(f'Initial dictionary length was {len(fetched_molecule_to_smile_map_compiled)}')\n",
    "for i in PubChem_WebFetch_for_failed:\n",
    "    fetched_molecule_to_smile_map_compiled[i] = PubChem_WebFetch_for_failed[i]\n",
    "print(f'Final dictionary length is {len(fetched_molecule_to_smile_map_compiled)}')"
   ]
  },
  {
   "cell_type": "code",
   "execution_count": 143,
   "id": "355b1027",
   "metadata": {},
   "outputs": [],
   "source": [
    "# Back to 290 entries!"
   ]
  },
  {
   "cell_type": "markdown",
   "id": "281f8090",
   "metadata": {},
   "source": [
    "# Updating the dataframe with retrieved SMILES entries"
   ]
  },
  {
   "cell_type": "code",
   "execution_count": 144,
   "id": "9acae28b",
   "metadata": {},
   "outputs": [],
   "source": [
    "for i in fetched_molecule_to_smile_map_compiled:\n",
    "    APEXBio_Library_Details.loc[APEXBio_Library_Details['Item Name'] == i, 'SMILES'] = fetched_molecule_to_smile_map_compiled[i]"
   ]
  },
  {
   "cell_type": "code",
   "execution_count": 145,
   "id": "a8702a8b",
   "metadata": {},
   "outputs": [
    {
     "data": {
      "text/plain": [
       "2321"
      ]
     },
     "execution_count": 145,
     "metadata": {},
     "output_type": "execute_result"
    }
   ],
   "source": [
    "APEXBio_Library_Details.SMILES.apply(smiles_check).sum()"
   ]
  },
  {
   "cell_type": "code",
   "execution_count": 146,
   "id": "7218bc2b",
   "metadata": {},
   "outputs": [],
   "source": [
    "# Yay! 2321 valid SMILES!"
   ]
  },
  {
   "cell_type": "code",
   "execution_count": 147,
   "id": "5a1dd80a",
   "metadata": {},
   "outputs": [],
   "source": [
    "APEXBio_Library_Details.to_csv('L1021-DiscoveryProbe-FDA-approved-Drug-Library_Updated.csv')"
   ]
  },
  {
   "cell_type": "code",
   "execution_count": 149,
   "id": "235d8696",
   "metadata": {},
   "outputs": [],
   "source": [
    "#APEXBio_Library_Details"
   ]
  },
  {
   "cell_type": "code",
   "execution_count": null,
   "id": "d9b825fb",
   "metadata": {},
   "outputs": [],
   "source": []
  }
 ],
 "metadata": {
  "kernelspec": {
   "display_name": "Python [conda env:my-rdkit-env]",
   "language": "python",
   "name": "conda-env-my-rdkit-env-py"
  },
  "language_info": {
   "codemirror_mode": {
    "name": "ipython",
    "version": 3
   },
   "file_extension": ".py",
   "mimetype": "text/x-python",
   "name": "python",
   "nbconvert_exporter": "python",
   "pygments_lexer": "ipython3",
   "version": "3.10.4"
  }
 },
 "nbformat": 4,
 "nbformat_minor": 5
}
